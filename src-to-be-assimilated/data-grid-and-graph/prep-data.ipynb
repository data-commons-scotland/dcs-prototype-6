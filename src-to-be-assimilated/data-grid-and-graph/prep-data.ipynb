{
 "cells": [
  {
   "cell_type": "code",
   "execution_count": 12,
   "metadata": {},
   "outputs": [
    {
     "data": {
      "text/plain": [
       "org.apache.commons.math3.stat.regression.SimpleRegression"
      ]
     },
     "execution_count": 12,
     "metadata": {},
     "output_type": "execute_result"
    }
   ],
   "source": [
    "; Add code libraries\n",
    "\n",
    "(require '[clojupyter.misc.helper :as helper])\n",
    "\n",
    "(helper/add-dependencies '[org.clojure/data.csv \"1.0.0\"])\n",
    "(helper/add-dependencies '[org.clojure/data.json \"1.0.0\"])\n",
    "(helper/add-dependencies '[clj-http/clj-http \"3.10.1\"])\n",
    "(helper/add-dependencies '[org.apache.commons/commons-math3 \"3.6.1\"])\n",
    "\n",
    "(require '[clojure.string :as str]\n",
    "         '[clojure.set :as set]\n",
    "         '[clojure.pprint :as pp]\n",
    "         '[clojure.java.io :as io]\n",
    "         '[clojure.data.csv :as csv]\n",
    "         '[clojure.data.json :as json]\n",
    "         '[clj-http.client :as http])\n",
    "         \n",
    "(import 'java.io.FileWriter\n",
    "        'java.net.URLEncoder\n",
    "        'java.math.RoundingMode\n",
    "        'org.apache.commons.math3.stat.regression.SimpleRegression)"
   ]
  },
  {
   "cell_type": "code",
   "execution_count": 2,
   "metadata": {},
   "outputs": [
    {
     "data": {
      "text/plain": [
       "#'user/trend"
      ]
     },
     "execution_count": 2,
     "metadata": {},
     "output_type": "execute_result"
    }
   ],
   "source": [
    "; Define convenience functions\n",
    "\n",
    "; Convert the CSV structure to a list-of-maps structure.\n",
    "(defn to-maps [csv-data]\n",
    "    (map zipmap (->> (first csv-data)\n",
    "                    (map keyword)\n",
    "                    repeat)\n",
    "                (rest csv-data)))\n",
    "\n",
    "; Map the name of a SPARQL service to its URL.\n",
    "(def service-urls {:scotgov \"http://statistics.gov.scot/sparql\"\n",
    "                   :wikidata \"https://query.wikidata.org/sparql\"})\n",
    "\n",
    "; Ask statistic.gov.scot to execute the given SPARQL query\n",
    "; and return its result as a list-of-maps.\n",
    "(defn exec-query [service-name sparql]\n",
    "    (->> (http/post (service-name service-urls) \n",
    "                    {:body (str \"query=\" (URLEncoder/encode sparql)) \n",
    "                    :headers {\"Accept\" \"text/csv\" \n",
    "                              \"Content-Type\" \"application/x-www-form-urlencoded\"} \n",
    "                    :debug false})\n",
    "        :body\n",
    "        csv/read-csv\n",
    "        to-maps))\n",
    "        \n",
    "; Compute 'the trend of y'.\n",
    "; (Returns the gradient of a linear approximation to the curve decribed by xy-pairs.)\n",
    "(defn trend [xy-pairs]\n",
    "    (let [regression (SimpleRegression. true)]\n",
    "        (doseq [[x y] xy-pairs]\n",
    "            (.addData regression x y))\n",
    "        (.getSlope regression)))"
   ]
  },
  {
   "cell_type": "code",
   "execution_count": 3,
   "metadata": {},
   "outputs": [
    {
     "name": "stdout",
     "output_type": "stream",
     "text": [
      "36432 rows\n"
     ]
    },
    {
     "data": {
      "text/plain": [
       "nil"
      ]
     },
     "execution_count": 3,
     "metadata": {},
     "output_type": "execute_result"
    }
   ],
   "source": [
    "; Query for the household waste solids data\n",
    "\n",
    "(def sparql \"\n",
    "\n",
    "PREFIX qb: <http://purl.org/linked-data/cube#>\n",
    "PREFIX rdfs: <http://www.w3.org/2000/01/rdf-schema#>\n",
    "PREFIX pdmx: <http://purl.org/linked-data/sdmx/2009/dimension#>\n",
    "PREFIX sdmx: <http://statistics.gov.scot/def/dimension/>\n",
    "PREFIX snum: <http://statistics.gov.scot/def/measure-properties/>\n",
    "PREFIX xsd: <http://www.w3.org/2001/XMLSchema#>\n",
    "\n",
    "SELECT \n",
    "    ?year\n",
    "    ?area\n",
    "    ?endState\n",
    "    ?material\n",
    "    ?tonnes \n",
    "    \n",
    "WHERE {\n",
    "  \n",
    "    ?tonnageObs qb:dataSet <http://statistics.gov.scot/data/household-waste> .\n",
    "    ?tonnageObs pdmx:refArea ?areaUri .\n",
    "    ?tonnageObs pdmx:refPeriod ?periodUri .\n",
    "    ?tonnageObs sdmx:wasteCategory ?wasteCategoryUri .\n",
    "    ?tonnageObs sdmx:wasteManagement ?wasteManagementUri .\n",
    "    ?tonnageObs snum:count ?tonnes .\n",
    "  \n",
    "    ?areaUri rdfs:label ?area .\n",
    "    ?periodUri rdfs:label ?year .\n",
    "    ?wasteCategoryUri rdfs:label ?material .\n",
    "    ?wasteManagementUri rdfs:label ?endState .\n",
    "}\n",
    "\")\n",
    "\n",
    "(def household-waste-solids \n",
    "    (->> sparql\n",
    "        (exec-query :scotgov)\n",
    "        (map #(assoc % :year (.intValue (bigdec (:year %)))\n",
    "                       :tonnes (.doubleValue (bigdec (:tonnes %)))))))\n",
    "\n",
    "(println (count household-waste-solids ) \"rows\")"
   ]
  },
  {
   "cell_type": "code",
   "execution_count": 4,
   "metadata": {},
   "outputs": [
    {
     "name": "stdout",
     "output_type": "stream",
     "text": [
      "\n",
      "| :year |                 :area |                         :endState |                                                                             :material | :tonnes |\n",
      "|-------+-----------------------+-----------------------------------+---------------------------------------------------------------------------------------+---------|\n",
      "|  2015 |         East Ayrshire | Other Diversion (pre 2014 method) |                                                           Animal and mixed food waste |     0.0 |\n",
      "|  2017 |     Perth and Kinross |                        Landfilled |                                                                          Glass wastes |     0.0 |\n",
      "|  2018 |            Inverclyde | Other Diversion (pre 2014 method) |                                                              Metallic wastes, ferrous |     0.0 |\n",
      "|  2013 |         East Ayrshire |        Recycled (pre 2014 method) |                                                     Health care and biological wastes |     0.0 |\n",
      "|  2012 |              Highland |                          Recycled |                                                                                 Soils |     0.0 |\n",
      "|  2013 | Dumfries and Galloway |                        Landfilled |                                                                             Used oils |     0.0 |\n",
      "|  2015 |                  Fife | Other Diversion (pre 2014 method) | Discarded equipment (excluding discarded vehicles, batteries and accumulators wastes) |     0.0 |\n",
      "|  2011 |          West Lothian |                   Other Diversion |                                                     Health care and biological wastes |     0.0 |\n",
      "|  2011 |      Scottish Borders |                          Recycled |                                                                        Textile wastes |   175.0 |\n",
      "|  2017 |      Scottish Borders |                   Waste Generated |                                                          Metallic wastes, non-ferrous |     0.0 |\n"
     ]
    },
    {
     "data": {
      "text/plain": [
       "nil"
      ]
     },
     "execution_count": 4,
     "metadata": {},
     "output_type": "execute_result"
    }
   ],
   "source": [
    "; Print a sample\n",
    "\n",
    "(def ks [:year :area :endState :material :tonnes])\n",
    "(pp/print-table ks (repeatedly 10 #(rand-nth household-waste-solids )))"
   ]
  },
  {
   "cell_type": "code",
   "execution_count": 5,
   "metadata": {
    "scrolled": true
   },
   "outputs": [
    {
     "name": "stdout",
     "output_type": "stream",
     "text": [
      "627 rows\n"
     ]
    },
    {
     "data": {
      "text/plain": [
       "nil"
      ]
     },
     "execution_count": 5,
     "metadata": {},
     "output_type": "execute_result"
    }
   ],
   "source": [
    "; Query for the population data\n",
    "\n",
    "(def sparql \"\n",
    "\n",
    "PREFIX qb: <http://purl.org/linked-data/cube#>\n",
    "PREFIX rdfs: <http://www.w3.org/2000/01/rdf-schema#>\n",
    "PREFIX pdmx: <http://purl.org/linked-data/sdmx/2009/dimension#>\n",
    "PREFIX sdmx: <http://statistics.gov.scot/def/dimension/>\n",
    "PREFIX snum: <http://statistics.gov.scot/def/measure-properties/>\n",
    "PREFIX uent: <http://statistics.data.gov.uk/def/statistical-entity#>\n",
    "PREFIX ugeo: <http://statistics.data.gov.uk/def/statistical-geography#>\n",
    "\n",
    "SELECT \n",
    "  ?year\n",
    "  ?area\n",
    "  ?population\n",
    "\n",
    "WHERE {\n",
    "  VALUES ?areaType { \n",
    "           <http://statistics.gov.scot/id/statistical-entity/S92>\n",
    "           <http://statistics.gov.scot/id/statistical-entity/S12> }\n",
    "           \n",
    "  ?areaUri uent:code ?areaType;\n",
    "           ugeo:status 'Live' ;\n",
    "           rdfs:label ?area .\n",
    "           \n",
    "  ?populationUri qb:dataSet <http://statistics.gov.scot/data/population-estimates-current-geographic-boundaries> ;\n",
    "                 pdmx:refArea ?areaUri ;\n",
    "                 pdmx:refPeriod ?periodUri ;\n",
    "                 sdmx:age <http://statistics.gov.scot/def/concept/age/all> ;\n",
    "                 sdmx:sex <http://statistics.gov.scot/def/concept/sex/all> ;\n",
    "                 snum:count ?population .\n",
    "  \n",
    "  ?periodUri rdfs:label ?year .\n",
    "}\n",
    "\")\n",
    "\n",
    "(def population\n",
    "    (->> sparql\n",
    "        (exec-query :scotgov)\n",
    "        (map #(assoc % :year (.intValue (bigdec (:year %)))\n",
    "                       :population (.intValue (bigdec (:population %)))))))\n",
    "\n",
    "(println (count population ) \"rows\")"
   ]
  },
  {
   "cell_type": "code",
   "execution_count": 6,
   "metadata": {},
   "outputs": [
    {
     "name": "stdout",
     "output_type": "stream",
     "text": [
      "\n",
      "| :year |               :area | :population |\n",
      "|-------+---------------------+-------------|\n",
      "|  2015 |       Aberdeenshire |      261960 |\n",
      "|  2005 |       Aberdeenshire |      237570 |\n",
      "|  2007 | West Dunbartonshire |       91370 |\n",
      "|  2017 |             Falkirk |      160130 |\n",
      "|  2013 |        Glasgow City |      596520 |\n",
      "|  2015 |   East Renfrewshire |       92940 |\n",
      "|  2003 |            Scotland |     5068500 |\n",
      "|  2005 |               Moray |       90100 |\n",
      "|  2007 |               Moray |       91440 |\n",
      "|  2017 |                Fife |      371410 |\n"
     ]
    },
    {
     "data": {
      "text/plain": [
       "nil"
      ]
     },
     "execution_count": 6,
     "metadata": {},
     "output_type": "execute_result"
    }
   ],
   "source": [
    "; Print a sample\n",
    "\n",
    "(def ks [:year :area :population])\n",
    "(pp/print-table ks (repeatedly 10 #(rand-nth population )))"
   ]
  },
  {
   "cell_type": "code",
   "execution_count": 8,
   "metadata": {},
   "outputs": [
    {
     "name": "stdout",
     "output_type": "stream",
     "text": [
      "627 rows\n"
     ]
    },
    {
     "data": {
      "text/plain": [
       "nil"
      ]
     },
     "execution_count": 8,
     "metadata": {},
     "output_type": "execute_result"
    }
   ],
   "source": [
    "; Query for the household data\n",
    "\n",
    "(def sparql \"\n",
    "\n",
    "PREFIX qb: <http://purl.org/linked-data/cube#>\n",
    "PREFIX rdfs: <http://www.w3.org/2000/01/rdf-schema#>\n",
    "PREFIX pdmx: <http://purl.org/linked-data/sdmx/2009/dimension#>\n",
    "PREFIX sdmx: <http://statistics.gov.scot/def/dimension/>\n",
    "PREFIX snum: <http://statistics.gov.scot/def/measure-properties/>\n",
    "PREFIX uent: <http://statistics.data.gov.uk/def/statistical-entity#>\n",
    "PREFIX ugeo: <http://statistics.data.gov.uk/def/statistical-geography#>\n",
    "\n",
    "SELECT \n",
    "  ?year\n",
    "  ?area\n",
    "  ?count\n",
    "\n",
    "WHERE {\n",
    "  VALUES ?areaType { \n",
    "           <http://statistics.gov.scot/id/statistical-entity/S92>\n",
    "           <http://statistics.gov.scot/id/statistical-entity/S12> }\n",
    "           \n",
    "  ?areaUri uent:code ?areaType;\n",
    "           ugeo:status 'Live' ;\n",
    "           rdfs:label ?area .\n",
    "           \n",
    "  ?householdUri qb:dataSet <http://statistics.gov.scot/data/mid-year-household-estimates> ;\n",
    "                 pdmx:refArea ?areaUri ;\n",
    "                 pdmx:refPeriod ?periodUri ;\n",
    "                 snum:count ?count .\n",
    "  \n",
    "  ?periodUri rdfs:label ?year .\n",
    "}\n",
    "\")\n",
    "\n",
    "(def household\n",
    "    (->> sparql\n",
    "        (exec-query :scotgov)\n",
    "        (map #(assoc % :year (.intValue (bigdec (:year %)))\n",
    "                       :count (.intValue (bigdec (:count %)))))))\n",
    "\n",
    "(println (count household ) \"rows\")"
   ]
  },
  {
   "cell_type": "code",
   "execution_count": 9,
   "metadata": {},
   "outputs": [
    {
     "name": "stdout",
     "output_type": "stream",
     "text": [
      "\n",
      "| :year |             :area | :count |\n",
      "|-------+-------------------+--------|\n",
      "|  2013 |             Angus |  52413 |\n",
      "|  2007 |     East Ayrshire |  52425 |\n",
      "|  2001 |       Dundee City |  66854 |\n",
      "|  2017 |        Inverclyde |  37651 |\n",
      "|  2005 |      Renfrewshire |  77483 |\n",
      "|  2002 |   Argyll and Bute |  39135 |\n",
      "|  2012 | North Lanarkshire | 146905 |\n",
      "|  2008 |       Dundee City |  68594 |\n",
      "|  2017 |    South Ayrshire |  52104 |\n",
      "|  2008 |          Stirling |  37120 |\n"
     ]
    },
    {
     "data": {
      "text/plain": [
       "nil"
      ]
     },
     "execution_count": 9,
     "metadata": {},
     "output_type": "execute_result"
    }
   ],
   "source": [
    "; Print a sample\n",
    "\n",
    "(def ks [:year :area :count])\n",
    "(pp/print-table ks (repeatedly 10 #(rand-nth household )))"
   ]
  },
  {
   "cell_type": "code",
   "execution_count": 19,
   "metadata": {},
   "outputs": [
    {
     "name": "stdout",
     "output_type": "stream",
     "text": [
      "64 rows\n"
     ]
    },
    {
     "data": {
      "text/plain": [
       "nil"
      ]
     },
     "execution_count": 19,
     "metadata": {},
     "output_type": "execute_result"
    }
   ],
   "source": [
    "; Query for the CO2e data\n",
    "\n",
    "(def sparql \"\n",
    "\n",
    "SELECT \n",
    "    ?year \n",
    "    ?councilAreaLabel \n",
    "    ?CO2eAmount\n",
    "    \n",
    "WHERE {\n",
    "  ?councilArea wdt:P31 wd:Q15060255 . # Scottish council area\n",
    "    \n",
    "  BIND(strafter(str(?councilArea), 'http://www.wikidata.org/entity/') as ?qid)\n",
    "    \n",
    "  ?councilArea p:P5991 ?CO2e . \n",
    "  ?CO2e psv:P5991 ?CO2eQuantity ;\n",
    "        pq:P585 ?date ;\n",
    "        pq:P828 wd:Q180388 ; # 'has cause' 'waste management'\n",
    "        pq:P828 wd:Q259059 . # 'has cause' 'household' .\n",
    "  ?CO2eQuantity wikibase:quantityAmount ?CO2eAmount.\n",
    "    \n",
    "  BIND(YEAR(?date) as ?year)\n",
    "    \n",
    "  SERVICE wikibase:label { bd:serviceParam wikibase:language '[AUTO_LANGUAGE],en' . }\n",
    "}\n",
    "\")\n",
    "\n",
    "(def co2e\n",
    "    (->> sparql\n",
    "        (exec-query :wikidata)\n",
    "        (map #(set/rename-keys % {:councilAreaLabel :area\n",
    "                                  :CO2eAmount :co2e}))\n",
    "        (map #(assoc % :year (.intValue (bigdec (:year %)))\n",
    "                       :co2e (.doubleValue (bigdec (:co2e %)))))\n",
    "        (map #(let [area (:area %)] ;; adjust Wikidata values to be in keeping with those from Scottish gov\n",
    "                  (cond \n",
    "                    (= area \"Outer Hebrides\") (assoc % :area \"Na h-Eileanan Siar\")\n",
    "                    :else %)))\n",
    "        \n",
    "        ))\n",
    "\n",
    "(println (count co2e ) \"rows\")"
   ]
  },
  {
   "cell_type": "code",
   "execution_count": 20,
   "metadata": {},
   "outputs": [
    {
     "name": "stdout",
     "output_type": "stream",
     "text": [
      "\n",
      "| :year |                 :area |     :co2e |\n",
      "|-------+-----------------------+-----------|\n",
      "|  2017 |                 Angus | 115899.85 |\n",
      "|  2017 |         Aberdeenshire | 325282.92 |\n",
      "|  2017 |   East Dunbartonshire | 130754.58 |\n",
      "|  2017 |         Aberdeen City | 198579.67 |\n",
      "|  2017 |           Dundee City | 154653.39 |\n",
      "|  2017 |                 Angus | 115899.85 |\n",
      "|  2018 | Dumfries and Galloway | 227001.47 |\n",
      "|  2017 |   East Dunbartonshire | 130754.58 |\n",
      "|  2017 |        Orkney Islands |  29072.83 |\n",
      "|  2018 |      Shetland Islands |  31049.37 |\n"
     ]
    },
    {
     "data": {
      "text/plain": [
       "nil"
      ]
     },
     "execution_count": 20,
     "metadata": {},
     "output_type": "execute_result"
    }
   ],
   "source": [
    "; Print a sample\n",
    "\n",
    "(def ks [:year :area :co2e])\n",
    "(pp/print-table ks (repeatedly 10 #(rand-nth co2e)))"
   ]
  },
  {
   "cell_type": "code",
   "execution_count": 26,
   "metadata": {},
   "outputs": [
    {
     "data": {
      "text/plain": [
       "({:area \"Scotland\", :year 2017, :co2e 5863248.86} {:area \"Scotland\", :year 2018, :co2e 5759986.49})"
      ]
     },
     "execution_count": 26,
     "metadata": {},
     "output_type": "execute_result"
    }
   ],
   "source": []
  },
  {
   "cell_type": "code",
   "execution_count": 27,
   "metadata": {},
   "outputs": [
    {
     "name": "stdout",
     "output_type": "stream",
     "text": [
      "17490 rows\n"
     ]
    },
    {
     "data": {
      "text/plain": [
       "nil"
      ]
     },
     "execution_count": 27,
     "metadata": {},
     "output_type": "execute_result"
    }
   ],
   "source": [
    "; Assemble the target data structure\n",
    "\n",
    "(def population-indexed \n",
    "    (group-by (juxt :year :area) population))\n",
    "    \n",
    "(def household-indexed \n",
    "    (group-by (juxt :year :area) household))\n",
    "\n",
    "\n",
    "    \n",
    "\n",
    "(def target-data-struct\n",
    "    (concat\n",
    "        (->> household-waste-solids\n",
    "            (filter #(not (or ;; could be useful, so leave in but hide on the page\n",
    "                              ;; (= \"Scotland\" (:area %))\n",
    "                              ;; duplicated by & could clash with summing on the page, so remove\n",
    "                              (= \"Waste Generated\" (:endState %))\n",
    "                              (= \"Total Waste\" (:material %))\n",
    "                              ;; confusingly duplicated in the non pre 2014 data, so remove\n",
    "                              (= \"Other Diversion (pre 2014 method)\" (:endState %)) ;; remove\n",
    "                              (= \"Recycled (pre 2014 method)\" (:endState %)))))\n",
    "            (map #(if-let [population (-> population-indexed (get [(:year %) (:area %)]) first :population)]\n",
    "                    (assoc % :tonnesPerCitizen (/ (:tonnes %) population))\n",
    "                    %))\n",
    "            (map #(if-let [count (-> household-indexed (get [(:year %) (:area %)]) first :count)]\n",
    "                    (assoc % :tonnesPerHousehold (/ (:tonnes %) count))\n",
    "                    %)))\n",
    "         (->> co2e\n",
    "            (concat ;; the entries for Scotland as a whole\n",
    "                (let [per-year (group-by :year co2e)]\n",
    "                    (for [year (keys per-year)]\n",
    "                        {:area \"Scotland\"\n",
    "                         :year year\n",
    "                         :co2e (apply + (map :co2e (get per-year year)))})))\n",
    "            (map #(if-let [population (-> population-indexed (get [(:year %) (:area %)]) first :population)]\n",
    "                    (assoc % :co2ePerCitizen (/ (:co2e %) population))\n",
    "                    %))\n",
    "            (map #(if-let [count (-> household-indexed (get [(:year %) (:area %)]) first :count)]\n",
    "                    (assoc % :co2ePerHousehold (/ (:co2e %) count))\n",
    "                    %)))))\n",
    "         \n",
    "(println (count target-data-struct) \"rows\")"
   ]
  },
  {
   "cell_type": "code",
   "execution_count": 28,
   "metadata": {},
   "outputs": [
    {
     "name": "stdout",
     "output_type": "stream",
     "text": [
      "wrote the JSON file /Users/amc/workspace/data-commons-scotland/dcs-shorts/pivot-drilldown-and-plot/dx-data.json\n"
     ]
    },
    {
     "data": {
      "text/plain": [
       "nil"
      ]
     },
     "execution_count": 28,
     "metadata": {},
     "output_type": "execute_result"
    }
   ],
   "source": [
    "; Write, as JSON, to a file\n",
    "         \n",
    "(def file (io/file \"dx-data.json\"))\n",
    "(binding [*out* (FileWriter. file)]\n",
    "    (json/pprint target-data-struct))\n",
    "(println \"wrote the JSON file\" (.getAbsolutePath file))"
   ]
  },
  {
   "cell_type": "code",
   "execution_count": null,
   "metadata": {},
   "outputs": [],
   "source": []
  },
  {
   "cell_type": "code",
   "execution_count": null,
   "metadata": {},
   "outputs": [],
   "source": []
  },
  {
   "cell_type": "code",
   "execution_count": null,
   "metadata": {},
   "outputs": [],
   "source": []
  }
 ],
 "metadata": {
  "kernelspec": {
   "display_name": "Clojure (clojupyter=0.3.2=1)",
   "language": "clojure",
   "name": "conda-clojupyter"
  },
  "language_info": {
   "file_extension": ".clj",
   "mimetype": "text/x-clojure",
   "name": "clojure",
   "version": "1.10.1"
  },
  "toc": {
   "base_numbering": 1,
   "nav_menu": {},
   "number_sections": false,
   "sideBar": false,
   "skip_h1_title": false,
   "title_cell": "Table of Contents",
   "title_sidebar": "Contents",
   "toc_cell": false,
   "toc_position": {},
   "toc_section_display": false,
   "toc_window_display": false
  },
  "widgets": {
   "application/vnd.jupyter.widget-state+json": {
    "state": {},
    "version_major": 2,
    "version_minor": 0
   }
  }
 },
 "nbformat": 4,
 "nbformat_minor": 2
}
